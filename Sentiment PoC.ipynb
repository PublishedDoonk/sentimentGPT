{
 "cells": [
  {
   "cell_type": "markdown",
   "id": "b388c92d-6678-43f6-b474-6243c9b0cc17",
   "metadata": {},
   "source": [
    "# LLM Sentiment Analysis Proof-of-Concept"
   ]
  },
  {
   "cell_type": "markdown",
   "id": "ca4cc6f9-596b-43e8-b18d-54f722eea4e5",
   "metadata": {},
   "source": [
    "## Setup and Function Definitions"
   ]
  },
  {
   "cell_type": "markdown",
   "id": "1d5bfa60-d995-4db4-8e74-afada3410b83",
   "metadata": {},
   "source": [
    "### Requirements"
   ]
  },
  {
   "cell_type": "markdown",
   "id": "b2c1a1aa-d67f-4a80-adfe-4212cdcb3bfb",
   "metadata": {},
   "source": [
    "#### Modules"
   ]
  },
  {
   "cell_type": "code",
   "execution_count": 1,
   "id": "a41976bd-c268-4dc7-a8e0-541cd877c09b",
   "metadata": {},
   "outputs": [
    {
     "name": "stdout",
     "output_type": "stream",
     "text": [
      "Note: you may need to restart the kernel to use updated packages.Requirement already satisfied: openai in c:\\users\\zacha\\appdata\\local\\programs\\python\\python311\\lib\\site-packages (0.27.2)\n",
      "Requirement already satisfied: requests>=2.20 in c:\\users\\zacha\\appdata\\local\\programs\\python\\python311\\lib\\site-packages (from openai) (2.28.2)\n",
      "Requirement already satisfied: tqdm in c:\\users\\zacha\\appdata\\local\\programs\\python\\python311\\lib\\site-packages (from openai) (4.65.0)\n",
      "Requirement already satisfied: aiohttp in c:\\users\\zacha\\appdata\\local\\programs\\python\\python311\\lib\\site-packages (from openai) (3.8.4)\n",
      "Requirement already satisfied: charset-normalizer<4,>=2 in c:\\users\\zacha\\appdata\\local\\programs\\python\\python311\\lib\\site-packages (from requests>=2.20->openai) (3.1.0)\n",
      "Requirement already satisfied: idna<4,>=2.5 in c:\\users\\zacha\\appdata\\local\\programs\\python\\python311\\lib\\site-packages (from requests>=2.20->openai) (3.4)\n",
      "Requirement already satisfied: urllib3<1.27,>=1.21.1 in c:\\users\\zacha\\appdata\\local\\programs\\python\\python311\\lib\\site-packages (from requests>=2.20->openai) (1.26.6)\n",
      "Requirement already satisfied: certifi>=2017.4.17 in c:\\users\\zacha\\appdata\\local\\programs\\python\\python311\\lib\\site-packages (from requests>=2.20->openai) (2022.12.7)\n",
      "Requirement already satisfied: attrs>=17.3.0 in c:\\users\\zacha\\appdata\\local\\programs\\python\\python311\\lib\\site-packages (from aiohttp->openai) (22.2.0)\n",
      "Requirement already satisfied: multidict<7.0,>=4.5 in c:\\users\\zacha\\appdata\\local\\programs\\python\\python311\\lib\\site-packages (from aiohttp->openai) (6.0.4)\n",
      "Requirement already satisfied: async-timeout<5.0,>=4.0.0a3 in c:\\users\\zacha\\appdata\\local\\programs\\python\\python311\\lib\\site-packages (from aiohttp->openai) (4.0.2)\n",
      "Requirement already satisfied: yarl<2.0,>=1.0 in c:\\users\\zacha\\appdata\\local\\programs\\python\\python311\\lib\\site-packages (from aiohttp->openai) (1.8.2)\n",
      "Requirement already satisfied: frozenlist>=1.1.1 in c:\\users\\zacha\\appdata\\local\\programs\\python\\python311\\lib\\site-packages (from aiohttp->openai) (1.3.3)\n",
      "Requirement already satisfied: aiosignal>=1.1.2 in c:\\users\\zacha\\appdata\\local\\programs\\python\\python311\\lib\\site-packages (from aiohttp->openai) (1.3.1)\n",
      "Requirement already satisfied: colorama in c:\\users\\zacha\\appdata\\local\\programs\\python\\python311\\lib\\site-packages (from tqdm->openai) (0.4.6)\n",
      "\n"
     ]
    },
    {
     "name": "stderr",
     "output_type": "stream",
     "text": [
      "\n",
      "[notice] A new release of pip is available: 23.1.2 -> 23.2.1\n",
      "[notice] To update, run: python.exe -m pip install --upgrade pip\n"
     ]
    }
   ],
   "source": [
    "pip install openai"
   ]
  },
  {
   "cell_type": "markdown",
   "id": "924aeae2-7ac3-4cb1-9c6c-225810731df6",
   "metadata": {},
   "source": [
    "#### Imports"
   ]
  },
  {
   "cell_type": "code",
   "execution_count": 2,
   "id": "14b08556-4650-4583-b9d5-d19e4636893e",
   "metadata": {},
   "outputs": [],
   "source": [
    "import os\n",
    "import openai\n",
    "import time\n",
    "import re"
   ]
  },
  {
   "cell_type": "markdown",
   "id": "c1b09fd4-c193-440c-a90f-649d9e95e59d",
   "metadata": {},
   "source": [
    "### OpenAI Library Functions"
   ]
  },
  {
   "cell_type": "markdown",
   "id": "f5562d9e-2a95-4aff-ab08-592f8c8b8ac8",
   "metadata": {},
   "source": [
    "#### API Key Validation Functions"
   ]
  },
  {
   "cell_type": "code",
   "execution_count": 3,
   "id": "33fee6bb-d619-49f5-807c-d2bea74ec4e7",
   "metadata": {},
   "outputs": [],
   "source": [
    "def get_api_key() -> str:\n",
    "    '''Returns openai API key from API folder'''\n",
    "    if os.path.exists('api/openai.txt'):\n",
    "        with open('api/openai.txt') as f:\n",
    "            return f.read().strip()\n",
    "    return ''\n",
    "\n",
    "def validate_key() -> bool:\n",
    "    '''Checks if openai API key is valid'''\n",
    "    openai.api_key = get_api_key()\n",
    "    try:\n",
    "        openai.Completion.create(engine=\"davinci\", prompt=\"This is a test\", max_tokens=5)\n",
    "        return True\n",
    "    except Exception as e:\n",
    "        print('[ERROR - API KEY]', str(e))\n",
    "        return False"
   ]
  },
  {
   "cell_type": "markdown",
   "id": "4b20ca78-d592-4912-a68c-4de0a9c795c8",
   "metadata": {},
   "source": [
    "#### Chat Completion Functions"
   ]
  },
  {
   "cell_type": "code",
   "execution_count": 4,
   "id": "f2fe39a7-d0b1-479f-9256-abb51d6fccf8",
   "metadata": {},
   "outputs": [],
   "source": [
    "def get_response(messages):\n",
    "    '''Gets response from openai API'''\n",
    "    #print(messages)\n",
    "    response = None\n",
    "    for i in range(3):\n",
    "        if not validate_key():\n",
    "            break\n",
    "        response = query_gpt(messages)\n",
    "        if response:\n",
    "            break\n",
    "    \n",
    "    if not response:\n",
    "        print('[ERROR - GPT 3.5]', 'Max connection attempts reached. Check internet connection.')\n",
    "        return None\n",
    "    \n",
    "    return response['choices'][0]['message']['content']\n",
    "\n",
    "def query_gpt(messages):\n",
    "    '''Tries to get ChatGPT to generate a text response to messages\n",
    "    if it fails, it waits 1 second and tries again.'''\n",
    "    try:\n",
    "        response = openai.ChatCompletion.create(\n",
    "            model='gpt-3.5-turbo',\n",
    "            messages=messages,\n",
    "        )\n",
    "        return response\n",
    "    \n",
    "    except Exception as e:\n",
    "        print('[ERROR - GPT 3.5]', str(e))\n",
    "        print('Retrying in 1 second...')\n",
    "        time.sleep(1)\n",
    "        return None"
   ]
  },
  {
   "cell_type": "markdown",
   "id": "385b3479-99ab-4f52-8a7d-15050d8f5515",
   "metadata": {},
   "source": [
    "#### Message Formatting Functions"
   ]
  },
  {
   "cell_type": "code",
   "execution_count": 5,
   "id": "acd4ca39-5273-4088-90bd-e78c11a12bba",
   "metadata": {},
   "outputs": [],
   "source": [
    "def format_question(question):\n",
    "    '''Formats a string as a user prompt for ChatGPT'''\n",
    "    return [{\n",
    "        'role':'user',\n",
    "        'content': question,\n",
    "    }]\n",
    "\n",
    "def format_instructions(instructions):\n",
    "    '''Formats a string as a system instruction for ChatGPT'''\n",
    "    return [{\n",
    "        'role':'system',\n",
    "        'content': instructions,\n",
    "    }]"
   ]
  },
  {
   "cell_type": "markdown",
   "id": "16ca9d19-5547-4c2e-94a8-776c8e8f9292",
   "metadata": {},
   "source": [
    "### File System Functions"
   ]
  },
  {
   "cell_type": "code",
   "execution_count": 6,
   "id": "755549b5-862d-4bf4-b17b-61224f740ace",
   "metadata": {},
   "outputs": [],
   "source": [
    "def read_from_file(filepath):\n",
    "    '''Reads all data from a file at filepath'''\n",
    "    with open(filepath, 'r', encoding='utf-8') as infile:\n",
    "        return infile.read()\n",
    "\n",
    "def write_to_file(filepath, content):\n",
    "    '''Writes all data in content to file at filepath'''\n",
    "    with open(filepath, 'w', encoding='utf-8') as outfile:\n",
    "        outfile.write(content)"
   ]
  },
  {
   "cell_type": "markdown",
   "id": "6f9050aa-dcd1-4dd5-8ae2-897e839167d7",
   "metadata": {},
   "source": [
    "### Sentiment Analysis Functions"
   ]
  },
  {
   "cell_type": "code",
   "execution_count": 14,
   "id": "714a693e-cb3b-4e53-9b22-e8c16c781fda",
   "metadata": {},
   "outputs": [],
   "source": [
    "def get_sentiment_scores():\n",
    "    '''Returns a new line separated list of sentiment scores for \n",
    "    each user feedback comment.'''\n",
    "    instructions = read_from_file('instructions.txt')\n",
    "    inst_length = len(instructions.split(' '))\n",
    "    instructions = format_instructions(instructions)\n",
    "    comments = format_comments(read_from_file('comments.txt'))\n",
    "    batches = split_into_batches(inst_length, comments, 5)\n",
    "    scores = []\n",
    "    \n",
    "    for batch in batches:\n",
    "        scores = scores + get_scores_from_batch(instructions, batch)\n",
    "    return scores\n",
    "    \n",
    "\n",
    "def validate_sentiment_scores(score: str):\n",
    "    '''Returns true if the sentiment score is a valid structure.'''\n",
    "    valid_pattern = '^[\\-]{0,1}[0-9]{1}[0]{0,1},[a-z]*( [a-z]*){0,2}(\\n[\\-]{0,1}[0-9]{1}[0]{0,1},[a-z]*( [a-z]*){0,2})*$'\n",
    "    return bool(re.search(valid_pattern, score))\n",
    "\n",
    "def results_invalid_length(batch: list, results: list):\n",
    "    if len(batch) != len(results):\n",
    "        return True\n",
    "    return False\n",
    "\n",
    "def format_comments(comments: str):\n",
    "    comments = comments.strip().split('\\n')\n",
    "    return ['[' + comment.replace('\\n', ' ') + ']' for comment in comments]\n",
    "\n",
    "def split_into_batches(inst_length: int, comments: list, size: int):\n",
    "    batches = []\n",
    "    batch = []\n",
    "    batch_length = inst_length\n",
    "    for c in comments:\n",
    "        if batch_length > 10000 or len(batch) == size:\n",
    "            batches.append('\\n'.join(batch))\n",
    "            batch = []\n",
    "            batch_length = inst_length\n",
    "        batch_length += len(c.split(' '))\n",
    "        batch.append(c)\n",
    "    batches.append('\\n'.join(batch))\n",
    "    return batches\n",
    "\n",
    "def get_scores_from_batch(instructions: list, batch: str):\n",
    "    query = format_question(batch)    \n",
    "    prompt = instructions + query\n",
    "\n",
    "    while True:\n",
    "        response = get_response(prompt).strip()\n",
    "        print(response)\n",
    "        if not validate_sentiment_scores(response):\n",
    "            print('invalid sentiment scores')\n",
    "            continue\n",
    "        response = response.replace(', ', ',')\n",
    "        scores = response.split('\\n')\n",
    "        response_length = len(scores)\n",
    "        batch_length = len(batch.split('\\n'))\n",
    "        if response_length == batch_length:\n",
    "            return scores\n",
    "        print('Scores Count:', response_length)\n",
    "        print('Batch Length:', batch_length)"
   ]
  },
  {
   "cell_type": "markdown",
   "id": "56ba7280-28ff-4034-bd33-08554e083f4f",
   "metadata": {},
   "source": [
    "## Main Function and Analysis"
   ]
  },
  {
   "cell_type": "code",
   "execution_count": 15,
   "id": "f06e367d-1fed-4914-a5e2-bdea36a59ef6",
   "metadata": {},
   "outputs": [
    {
     "name": "stdout",
     "output_type": "stream",
     "text": [
      "7,none\n",
      "-7,product quality\n",
      "0,product value\n",
      "10,none\n",
      "-6,product durability\n",
      "7,service\n",
      "-5,product quality\n",
      "-5,price value\n",
      "0,none\n",
      "-8,product quality\n",
      "7,none\n",
      "-8,price quality\n",
      "-10,service\n",
      "9,none\n",
      "-8,product diameter\n",
      "8,none\n",
      "-9,product quality\n",
      "6,none\n",
      "-7,product value\n",
      "9,none\n",
      "-7,product color\n",
      "7,installation ease\n",
      "-8,product transportation\n",
      "-10,product value\n",
      "6,not the best\n",
      "-5,product performance\n",
      "8,price value\n",
      "-7,product damage\n",
      "8,product performance\n",
      "-5,product quality\n",
      "8,delivery performance\n",
      "0,none\n",
      "-10,product quality\n",
      "9,none\n",
      "-10,product design\n",
      "7,none\n",
      "-10,none\n",
      "5,none\n",
      "-8,product quality\n",
      "10,none\n",
      "-10,price quality\n",
      "-5,product quality\n",
      "-3,none\n",
      "8,product durability\n",
      "-10,none\n",
      "-5,none\n",
      "9,product durability\n",
      "-7,purchase regret\n",
      "6,product functionality\n",
      "-10,customer refund\n",
      "10,none\n",
      "-8,frustrating\n",
      "0,neutral\n",
      "-10,product quality\n",
      "10,none\n",
      "-8,product quality\n",
      "8,product quality\n",
      "-9,none\n",
      "7,no issues\n",
      "-10,product value\n",
      "10,satisfied\n",
      "-10,craftsmanship\n",
      "8,none\n",
      "-8,product quality\n",
      "10,customer service\n",
      "-10,product value\n",
      "5,none\n",
      "-10,price value\n",
      "8,price value\n",
      "-10,product value\n",
      "10,excellent material\n",
      "-10,none\n",
      "7,none\n",
      "-8,product quality\n",
      "8,none\n",
      "-10,none\n",
      "6,product quality\n",
      "-8,product quality\n",
      "9,product value\n",
      "-10,none\n",
      "10,none\n",
      "-9,none\n",
      "8,job performance\n",
      "-10,price value\n",
      "9,product quality\n",
      "-8,none\n",
      "5,none\n",
      "-10,service\n",
      "10,none\n",
      "-9,product quality\n",
      "2,product quality\n",
      "-10,product quality\n",
      "7,none\n",
      "-10,product quality\n",
      "10,none\n",
      "-9,product quality\n",
      "5,product functionality\n",
      "-6,none\n",
      "8,price\n",
      "-10,product quality\n"
     ]
    }
   ],
   "source": [
    "def main():\n",
    "    if not validate_key():\n",
    "        return\n",
    "\n",
    "    sentiment = get_sentiment_scores()\n",
    "    #write_to_file('sentiment.txt', '\\n'.join(sentiment))\n",
    "\n",
    "main()"
   ]
  },
  {
   "cell_type": "code",
   "execution_count": 27,
   "id": "ba0a0961-3bd5-4fb9-a6ee-3ba256c139de",
   "metadata": {},
   "outputs": [
    {
     "name": "stdout",
     "output_type": "stream",
     "text": [
      "{'fish': 3, 'dog': 2, 'cat': 1, 'elephant': 1, 'human': 1}\n"
     ]
    }
   ],
   "source": [
    "arr = ['fish', 'cat', 'dog', 'fish', 'fish', 'dog', 'elephant', 'human']\n",
    "counts = {}\n",
    "for a in arr:\n",
    "    if a in counts:\n",
    "        counts[a] += 1\n",
    "    else:\n",
    "        counts[a] = 1\n",
    "counts = dict(sorted(counts.items(), key=lambda x:x[1], reverse=True))\n",
    "print(counts)"
   ]
  },
  {
   "cell_type": "code",
   "execution_count": null,
   "id": "62fb93c9-4b12-463f-ad83-4aa49c32b527",
   "metadata": {},
   "outputs": [],
   "source": []
  }
 ],
 "metadata": {
  "kernelspec": {
   "display_name": "Python 3 (ipykernel)",
   "language": "python",
   "name": "python3"
  },
  "language_info": {
   "codemirror_mode": {
    "name": "ipython",
    "version": 3
   },
   "file_extension": ".py",
   "mimetype": "text/x-python",
   "name": "python",
   "nbconvert_exporter": "python",
   "pygments_lexer": "ipython3",
   "version": "3.11.4"
  }
 },
 "nbformat": 4,
 "nbformat_minor": 5
}
